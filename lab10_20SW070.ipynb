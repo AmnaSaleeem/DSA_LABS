{
  "nbformat": 4,
  "nbformat_minor": 0,
  "metadata": {
    "colab": {
      "provenance": []
    },
    "kernelspec": {
      "name": "python3",
      "display_name": "Python 3"
    },
    "language_info": {
      "name": "python"
    }
  },
  "cells": [
    {
      "cell_type": "code",
      "source": [
        "# Import necessary libraries\n",
        "import pandas as pd\n",
        "from sklearn.model_selection import train_test_split\n",
        "from sklearn.tree import DecisionTreeClassifier\n",
        "from sklearn.naive_bayes import GaussianNB\n",
        "from sklearn.metrics import accuracy_score, precision_score, recall_score, f1_score"
      ],
      "metadata": {
        "id": "IGhK1eHC11U7"
      },
      "execution_count": 20,
      "outputs": []
    },
    {
      "cell_type": "code",
      "source": [
        "# Load your dataset (replace 'data.csv' with your dataset's filename)\n",
        "data = pd.read_csv('/content/data.csv')\n",
        "print(data)"
      ],
      "metadata": {
        "colab": {
          "base_uri": "https://localhost:8080/"
        },
        "id": "5cwrtSl414Vu",
        "outputId": "5c9e5694-515f-45d2-a723-b9b3c538379a"
      },
      "execution_count": 21,
      "outputs": [
        {
          "output_type": "stream",
          "name": "stdout",
          "text": [
            "       step      type     amount     nameOrig  oldbalanceOrg  newbalanceOrig  \\\n",
            "0         1   PAYMENT    9839.64  C1231006815       170136.0       160296.36   \n",
            "1         1   PAYMENT    1864.28  C1666544295        21249.0        19384.72   \n",
            "2         1  TRANSFER     181.00  C1305486145          181.0            0.00   \n",
            "3         1  CASH_OUT     181.00   C840083671          181.0            0.00   \n",
            "4         1   PAYMENT   11668.14  C2048537720        41554.0        29885.86   \n",
            "...     ...       ...        ...          ...            ...             ...   \n",
            "83556    10   PAYMENT    7705.70  C1834114901        96490.0        88784.30   \n",
            "83557    10  CASH_OUT  319045.01  C1964329082        56471.0            0.00   \n",
            "83558    10   CASH_IN  249169.96  C1421944154         3481.0       252650.96   \n",
            "83559    10  CASH_OUT  244279.64   C722886752        29968.0            0.00   \n",
            "83560    10  CASH_OUT  145014.63    C60491101            NaN             NaN   \n",
            "\n",
            "          nameDest  oldbalanceDest  newbalanceDest  isFraud  isFlaggedFraud  \n",
            "0      M1979787155            0.00            0.00      0.0             0.0  \n",
            "1      M2044282225            0.00            0.00      0.0             0.0  \n",
            "2       C553264065            0.00            0.00      1.0             0.0  \n",
            "3        C38997010        21182.00            0.00      1.0             0.0  \n",
            "4      M1230701703            0.00            0.00      0.0             0.0  \n",
            "...            ...             ...             ...      ...             ...  \n",
            "83556  M1214836727            0.00            0.00      0.0             0.0  \n",
            "83557   C699133054            0.00       319045.01      0.0             0.0  \n",
            "83558   C790672270        38177.07            0.00      0.0             0.0  \n",
            "83559  C1492538502        25680.00       269959.64      0.0             0.0  \n",
            "83560          NaN             NaN             NaN      NaN             NaN  \n",
            "\n",
            "[83561 rows x 11 columns]\n"
          ]
        }
      ]
    },
    {
      "cell_type": "code",
      "source": [
        "# Drop rows with missing values (NaN)\n",
        "data = data.dropna()\n",
        "# Check the column names in your dataset\n",
        "print(data.columns)\n",
        "print(data)"
      ],
      "metadata": {
        "colab": {
          "base_uri": "https://localhost:8080/"
        },
        "id": "oLCwefZt2Cd9",
        "outputId": "840f6ebb-201e-4e62-c6d3-f51cd92e20cf"
      },
      "execution_count": 22,
      "outputs": [
        {
          "output_type": "stream",
          "name": "stdout",
          "text": [
            "Index(['step', 'type', 'amount', 'nameOrig', 'oldbalanceOrg', 'newbalanceOrig',\n",
            "       'nameDest', 'oldbalanceDest', 'newbalanceDest', 'isFraud',\n",
            "       'isFlaggedFraud'],\n",
            "      dtype='object')\n",
            "       step      type     amount     nameOrig  oldbalanceOrg  newbalanceOrig  \\\n",
            "0         1   PAYMENT    9839.64  C1231006815       170136.0       160296.36   \n",
            "1         1   PAYMENT    1864.28  C1666544295        21249.0        19384.72   \n",
            "2         1  TRANSFER     181.00  C1305486145          181.0            0.00   \n",
            "3         1  CASH_OUT     181.00   C840083671          181.0            0.00   \n",
            "4         1   PAYMENT   11668.14  C2048537720        41554.0        29885.86   \n",
            "...     ...       ...        ...          ...            ...             ...   \n",
            "83555    10  CASH_OUT   14895.17   C214279684        51759.0        36863.83   \n",
            "83556    10   PAYMENT    7705.70  C1834114901        96490.0        88784.30   \n",
            "83557    10  CASH_OUT  319045.01  C1964329082        56471.0            0.00   \n",
            "83558    10   CASH_IN  249169.96  C1421944154         3481.0       252650.96   \n",
            "83559    10  CASH_OUT  244279.64   C722886752        29968.0            0.00   \n",
            "\n",
            "          nameDest  oldbalanceDest  newbalanceDest  isFraud  isFlaggedFraud  \n",
            "0      M1979787155            0.00            0.00      0.0             0.0  \n",
            "1      M2044282225            0.00            0.00      0.0             0.0  \n",
            "2       C553264065            0.00            0.00      1.0             0.0  \n",
            "3        C38997010        21182.00            0.00      1.0             0.0  \n",
            "4      M1230701703            0.00            0.00      0.0             0.0  \n",
            "...            ...             ...             ...      ...             ...  \n",
            "83555  C1298314970       979963.09       994858.25      0.0             0.0  \n",
            "83556  M1214836727            0.00            0.00      0.0             0.0  \n",
            "83557   C699133054            0.00       319045.01      0.0             0.0  \n",
            "83558   C790672270        38177.07            0.00      0.0             0.0  \n",
            "83559  C1492538502        25680.00       269959.64      0.0             0.0  \n",
            "\n",
            "[83560 rows x 11 columns]\n"
          ]
        }
      ]
    },
    {
      "cell_type": "code",
      "source": [
        "# Select relevant features and target variable\n",
        "X = data[['step', 'type', 'amount', 'oldbalanceOrg', 'newbalanceOrig', 'oldbalanceDest', 'newbalanceDest']]\n",
        "y = data['isFraud']"
      ],
      "metadata": {
        "id": "pgfVUjYH2IlV"
      },
      "execution_count": 23,
      "outputs": []
    },
    {
      "cell_type": "code",
      "source": [
        "# Encode categorical feature 'type' using one-hot encoding\n",
        "X = pd.get_dummies(data=X, columns=['type'], drop_first=True)"
      ],
      "metadata": {
        "id": "8LiOp5ub2PEz"
      },
      "execution_count": 24,
      "outputs": []
    },
    {
      "cell_type": "code",
      "source": [
        "# Split the dataset into training and testing sets\n",
        "X_train, X_test, y_train, y_test = train_test_split(X, y, test_size=0.2, random_state=42)"
      ],
      "metadata": {
        "id": "1Px0_TEX2SUA"
      },
      "execution_count": 25,
      "outputs": []
    },
    {
      "cell_type": "code",
      "source": [
        "# Implement and train the Decision Tree Classifier\n",
        "dt_classifier = DecisionTreeClassifier()\n",
        "dt_classifier.fit(X_train, y_train)\n",
        "DecisionTreeClassifier()"
      ],
      "metadata": {
        "colab": {
          "base_uri": "https://localhost:8080/",
          "height": 74
        },
        "id": "CL7LI-Jq2WRh",
        "outputId": "4874731a-4011-4983-e951-6d027a48fa1b"
      },
      "execution_count": 26,
      "outputs": [
        {
          "output_type": "execute_result",
          "data": {
            "text/plain": [
              "DecisionTreeClassifier()"
            ],
            "text/html": [
              "<style>#sk-container-id-1 {color: black;background-color: white;}#sk-container-id-1 pre{padding: 0;}#sk-container-id-1 div.sk-toggleable {background-color: white;}#sk-container-id-1 label.sk-toggleable__label {cursor: pointer;display: block;width: 100%;margin-bottom: 0;padding: 0.3em;box-sizing: border-box;text-align: center;}#sk-container-id-1 label.sk-toggleable__label-arrow:before {content: \"▸\";float: left;margin-right: 0.25em;color: #696969;}#sk-container-id-1 label.sk-toggleable__label-arrow:hover:before {color: black;}#sk-container-id-1 div.sk-estimator:hover label.sk-toggleable__label-arrow:before {color: black;}#sk-container-id-1 div.sk-toggleable__content {max-height: 0;max-width: 0;overflow: hidden;text-align: left;background-color: #f0f8ff;}#sk-container-id-1 div.sk-toggleable__content pre {margin: 0.2em;color: black;border-radius: 0.25em;background-color: #f0f8ff;}#sk-container-id-1 input.sk-toggleable__control:checked~div.sk-toggleable__content {max-height: 200px;max-width: 100%;overflow: auto;}#sk-container-id-1 input.sk-toggleable__control:checked~label.sk-toggleable__label-arrow:before {content: \"▾\";}#sk-container-id-1 div.sk-estimator input.sk-toggleable__control:checked~label.sk-toggleable__label {background-color: #d4ebff;}#sk-container-id-1 div.sk-label input.sk-toggleable__control:checked~label.sk-toggleable__label {background-color: #d4ebff;}#sk-container-id-1 input.sk-hidden--visually {border: 0;clip: rect(1px 1px 1px 1px);clip: rect(1px, 1px, 1px, 1px);height: 1px;margin: -1px;overflow: hidden;padding: 0;position: absolute;width: 1px;}#sk-container-id-1 div.sk-estimator {font-family: monospace;background-color: #f0f8ff;border: 1px dotted black;border-radius: 0.25em;box-sizing: border-box;margin-bottom: 0.5em;}#sk-container-id-1 div.sk-estimator:hover {background-color: #d4ebff;}#sk-container-id-1 div.sk-parallel-item::after {content: \"\";width: 100%;border-bottom: 1px solid gray;flex-grow: 1;}#sk-container-id-1 div.sk-label:hover label.sk-toggleable__label {background-color: #d4ebff;}#sk-container-id-1 div.sk-serial::before {content: \"\";position: absolute;border-left: 1px solid gray;box-sizing: border-box;top: 0;bottom: 0;left: 50%;z-index: 0;}#sk-container-id-1 div.sk-serial {display: flex;flex-direction: column;align-items: center;background-color: white;padding-right: 0.2em;padding-left: 0.2em;position: relative;}#sk-container-id-1 div.sk-item {position: relative;z-index: 1;}#sk-container-id-1 div.sk-parallel {display: flex;align-items: stretch;justify-content: center;background-color: white;position: relative;}#sk-container-id-1 div.sk-item::before, #sk-container-id-1 div.sk-parallel-item::before {content: \"\";position: absolute;border-left: 1px solid gray;box-sizing: border-box;top: 0;bottom: 0;left: 50%;z-index: -1;}#sk-container-id-1 div.sk-parallel-item {display: flex;flex-direction: column;z-index: 1;position: relative;background-color: white;}#sk-container-id-1 div.sk-parallel-item:first-child::after {align-self: flex-end;width: 50%;}#sk-container-id-1 div.sk-parallel-item:last-child::after {align-self: flex-start;width: 50%;}#sk-container-id-1 div.sk-parallel-item:only-child::after {width: 0;}#sk-container-id-1 div.sk-dashed-wrapped {border: 1px dashed gray;margin: 0 0.4em 0.5em 0.4em;box-sizing: border-box;padding-bottom: 0.4em;background-color: white;}#sk-container-id-1 div.sk-label label {font-family: monospace;font-weight: bold;display: inline-block;line-height: 1.2em;}#sk-container-id-1 div.sk-label-container {text-align: center;}#sk-container-id-1 div.sk-container {/* jupyter's `normalize.less` sets `[hidden] { display: none; }` but bootstrap.min.css set `[hidden] { display: none !important; }` so we also need the `!important` here to be able to override the default hidden behavior on the sphinx rendered scikit-learn.org. See: https://github.com/scikit-learn/scikit-learn/issues/21755 */display: inline-block !important;position: relative;}#sk-container-id-1 div.sk-text-repr-fallback {display: none;}</style><div id=\"sk-container-id-1\" class=\"sk-top-container\"><div class=\"sk-text-repr-fallback\"><pre>DecisionTreeClassifier()</pre><b>In a Jupyter environment, please rerun this cell to show the HTML representation or trust the notebook. <br />On GitHub, the HTML representation is unable to render, please try loading this page with nbviewer.org.</b></div><div class=\"sk-container\" hidden><div class=\"sk-item\"><div class=\"sk-estimator sk-toggleable\"><input class=\"sk-toggleable__control sk-hidden--visually\" id=\"sk-estimator-id-1\" type=\"checkbox\" checked><label for=\"sk-estimator-id-1\" class=\"sk-toggleable__label sk-toggleable__label-arrow\">DecisionTreeClassifier</label><div class=\"sk-toggleable__content\"><pre>DecisionTreeClassifier()</pre></div></div></div></div></div>"
            ]
          },
          "metadata": {},
          "execution_count": 26
        }
      ]
    },
    {
      "cell_type": "code",
      "source": [
        "# Predict with Decision Tree Classifier\n",
        "dt_predictions = dt_classifier.predict(X_test)"
      ],
      "metadata": {
        "id": "Ksy0l5iP2dOv"
      },
      "execution_count": 28,
      "outputs": []
    },
    {
      "cell_type": "code",
      "source": [
        "# Evaluate Decision Tree Classifier performance\n",
        "dt_accuracy = accuracy_score(y_test, dt_predictions)\n",
        "dt_precision = precision_score(y_test, dt_predictions)\n",
        "dt_recall = recall_score(y_test, dt_predictions)\n",
        "dt_f1 = f1_score(y_test, dt_predictions)"
      ],
      "metadata": {
        "id": "e_EjzH9j2iPp"
      },
      "execution_count": 29,
      "outputs": []
    },
    {
      "cell_type": "code",
      "source": [
        "# Implement and train the Naïve Bayes Classifier (Gaussian NB for continuous data)\n",
        "nb_classifier = GaussianNB()\n",
        "nb_classifier.fit(X_train, y_train)"
      ],
      "metadata": {
        "colab": {
          "base_uri": "https://localhost:8080/",
          "height": 74
        },
        "id": "ps6t_xOM2oeO",
        "outputId": "995efddc-ac89-4cfb-ef7f-a9c2c194f013"
      },
      "execution_count": 30,
      "outputs": [
        {
          "output_type": "execute_result",
          "data": {
            "text/plain": [
              "GaussianNB()"
            ],
            "text/html": [
              "<style>#sk-container-id-2 {color: black;background-color: white;}#sk-container-id-2 pre{padding: 0;}#sk-container-id-2 div.sk-toggleable {background-color: white;}#sk-container-id-2 label.sk-toggleable__label {cursor: pointer;display: block;width: 100%;margin-bottom: 0;padding: 0.3em;box-sizing: border-box;text-align: center;}#sk-container-id-2 label.sk-toggleable__label-arrow:before {content: \"▸\";float: left;margin-right: 0.25em;color: #696969;}#sk-container-id-2 label.sk-toggleable__label-arrow:hover:before {color: black;}#sk-container-id-2 div.sk-estimator:hover label.sk-toggleable__label-arrow:before {color: black;}#sk-container-id-2 div.sk-toggleable__content {max-height: 0;max-width: 0;overflow: hidden;text-align: left;background-color: #f0f8ff;}#sk-container-id-2 div.sk-toggleable__content pre {margin: 0.2em;color: black;border-radius: 0.25em;background-color: #f0f8ff;}#sk-container-id-2 input.sk-toggleable__control:checked~div.sk-toggleable__content {max-height: 200px;max-width: 100%;overflow: auto;}#sk-container-id-2 input.sk-toggleable__control:checked~label.sk-toggleable__label-arrow:before {content: \"▾\";}#sk-container-id-2 div.sk-estimator input.sk-toggleable__control:checked~label.sk-toggleable__label {background-color: #d4ebff;}#sk-container-id-2 div.sk-label input.sk-toggleable__control:checked~label.sk-toggleable__label {background-color: #d4ebff;}#sk-container-id-2 input.sk-hidden--visually {border: 0;clip: rect(1px 1px 1px 1px);clip: rect(1px, 1px, 1px, 1px);height: 1px;margin: -1px;overflow: hidden;padding: 0;position: absolute;width: 1px;}#sk-container-id-2 div.sk-estimator {font-family: monospace;background-color: #f0f8ff;border: 1px dotted black;border-radius: 0.25em;box-sizing: border-box;margin-bottom: 0.5em;}#sk-container-id-2 div.sk-estimator:hover {background-color: #d4ebff;}#sk-container-id-2 div.sk-parallel-item::after {content: \"\";width: 100%;border-bottom: 1px solid gray;flex-grow: 1;}#sk-container-id-2 div.sk-label:hover label.sk-toggleable__label {background-color: #d4ebff;}#sk-container-id-2 div.sk-serial::before {content: \"\";position: absolute;border-left: 1px solid gray;box-sizing: border-box;top: 0;bottom: 0;left: 50%;z-index: 0;}#sk-container-id-2 div.sk-serial {display: flex;flex-direction: column;align-items: center;background-color: white;padding-right: 0.2em;padding-left: 0.2em;position: relative;}#sk-container-id-2 div.sk-item {position: relative;z-index: 1;}#sk-container-id-2 div.sk-parallel {display: flex;align-items: stretch;justify-content: center;background-color: white;position: relative;}#sk-container-id-2 div.sk-item::before, #sk-container-id-2 div.sk-parallel-item::before {content: \"\";position: absolute;border-left: 1px solid gray;box-sizing: border-box;top: 0;bottom: 0;left: 50%;z-index: -1;}#sk-container-id-2 div.sk-parallel-item {display: flex;flex-direction: column;z-index: 1;position: relative;background-color: white;}#sk-container-id-2 div.sk-parallel-item:first-child::after {align-self: flex-end;width: 50%;}#sk-container-id-2 div.sk-parallel-item:last-child::after {align-self: flex-start;width: 50%;}#sk-container-id-2 div.sk-parallel-item:only-child::after {width: 0;}#sk-container-id-2 div.sk-dashed-wrapped {border: 1px dashed gray;margin: 0 0.4em 0.5em 0.4em;box-sizing: border-box;padding-bottom: 0.4em;background-color: white;}#sk-container-id-2 div.sk-label label {font-family: monospace;font-weight: bold;display: inline-block;line-height: 1.2em;}#sk-container-id-2 div.sk-label-container {text-align: center;}#sk-container-id-2 div.sk-container {/* jupyter's `normalize.less` sets `[hidden] { display: none; }` but bootstrap.min.css set `[hidden] { display: none !important; }` so we also need the `!important` here to be able to override the default hidden behavior on the sphinx rendered scikit-learn.org. See: https://github.com/scikit-learn/scikit-learn/issues/21755 */display: inline-block !important;position: relative;}#sk-container-id-2 div.sk-text-repr-fallback {display: none;}</style><div id=\"sk-container-id-2\" class=\"sk-top-container\"><div class=\"sk-text-repr-fallback\"><pre>GaussianNB()</pre><b>In a Jupyter environment, please rerun this cell to show the HTML representation or trust the notebook. <br />On GitHub, the HTML representation is unable to render, please try loading this page with nbviewer.org.</b></div><div class=\"sk-container\" hidden><div class=\"sk-item\"><div class=\"sk-estimator sk-toggleable\"><input class=\"sk-toggleable__control sk-hidden--visually\" id=\"sk-estimator-id-2\" type=\"checkbox\" checked><label for=\"sk-estimator-id-2\" class=\"sk-toggleable__label sk-toggleable__label-arrow\">GaussianNB</label><div class=\"sk-toggleable__content\"><pre>GaussianNB()</pre></div></div></div></div></div>"
            ]
          },
          "metadata": {},
          "execution_count": 30
        }
      ]
    },
    {
      "cell_type": "code",
      "source": [
        "\n",
        "# Predict with Naïve Bayes Classifier\n",
        "nb_predictions = nb_classifier.predict(X_test)"
      ],
      "metadata": {
        "id": "83sUcku42vLA"
      },
      "execution_count": 31,
      "outputs": []
    },
    {
      "cell_type": "code",
      "source": [
        "# Evaluate Naïve Bayes Classifier performance\n",
        "nb_accuracy = accuracy_score(y_test, nb_predictions)\n",
        "nb_precision = precision_score(y_test, nb_predictions)\n",
        "nb_recall = recall_score(y_test, nb_predictions)\n",
        "nb_f1 = f1_score(y_test, nb_predictions)\n",
        ""
      ],
      "metadata": {
        "id": "SwXTws6E2yzz"
      },
      "execution_count": 32,
      "outputs": []
    },
    {
      "cell_type": "code",
      "source": [
        "# Compare the performance of Decision Tree\n",
        "print(\"Decision Tree Classifier:\")\n",
        "print(f\"Accuracy: {dt_accuracy:.2f}\")\n",
        "print(f\"Precision: {dt_precision:.2f}\")\n",
        "print(f\"Recall: {dt_recall:.2f}\")\n",
        "print(f\"F1 Score: {dt_f1:.2f}\")"
      ],
      "metadata": {
        "colab": {
          "base_uri": "https://localhost:8080/"
        },
        "id": "8Nmz6gJq23Ll",
        "outputId": "8fc8f638-39f6-4cfe-8819-a0a6c2b7f937"
      },
      "execution_count": 33,
      "outputs": [
        {
          "output_type": "stream",
          "name": "stdout",
          "text": [
            "Decision Tree Classifier:\n",
            "Accuracy: 1.00\n",
            "Precision: 0.54\n",
            "Recall: 0.79\n",
            "F1 Score: 0.64\n"
          ]
        }
      ]
    },
    {
      "cell_type": "code",
      "source": [
        "# Compare the performance of Naïve Bayes\n",
        "print(\"\\nNaïve Bayes Classifier:\")\n",
        "print(f\"Accuracy: {nb_accuracy:.2f}\")\n",
        "print(f\"Precision: {nb_precision:.2f}\")\n",
        "print(f\"Recall: {nb_recall:.2f}\")\n",
        "print(f\"F1 Score: {nb_f1:.2f}\")"
      ],
      "metadata": {
        "id": "SKbyTHKk27AZ",
        "outputId": "810e389b-7244-418a-948f-5baa007f74b6",
        "colab": {
          "base_uri": "https://localhost:8080/"
        }
      },
      "execution_count": 34,
      "outputs": [
        {
          "output_type": "stream",
          "name": "stdout",
          "text": [
            "\n",
            "Naïve Bayes Classifier:\n",
            "Accuracy: 0.98\n",
            "Precision: 0.01\n",
            "Recall: 0.08\n",
            "F1 Score: 0.01\n"
          ]
        }
      ]
    }
  ]
}