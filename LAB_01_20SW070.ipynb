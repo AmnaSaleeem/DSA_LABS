{
  "nbformat": 4,
  "nbformat_minor": 0,
  "metadata": {
    "colab": {
      "provenance": []
    },
    "kernelspec": {
      "name": "python3",
      "display_name": "Python 3"
    },
    "language_info": {
      "name": "python"
    }
  },
  "cells": [
    {
      "cell_type": "markdown",
      "source": [],
      "metadata": {
        "id": "fiijbrAMBPOp"
      }
    },
    {
      "cell_type": "markdown",
      "source": [
        "TASK 01"
      ],
      "metadata": {
        "id": "9LM71TRXBRzM"
      }
    },
    {
      "cell_type": "code",
      "source": [
        "var1 = \"AMNA\"\n",
        "var2 = \"SALEEM\"\n",
        "print(\"I am, The UI Designer,{} {} \".format(var1, var2))"
      ],
      "metadata": {
        "colab": {
          "base_uri": "https://localhost:8080/"
        },
        "id": "n_7ttqOZBUyU",
        "outputId": "ebff977d-48da-4669-842c-9d172d4d1fb6"
      },
      "execution_count": 9,
      "outputs": [
        {
          "output_type": "stream",
          "name": "stdout",
          "text": [
            "I am, The UI Designer,AMNA SALEEM \n"
          ]
        }
      ]
    },
    {
      "cell_type": "markdown",
      "source": [
        "TASK 02"
      ],
      "metadata": {
        "id": "UFA6Ly-_CWzx"
      }
    },
    {
      "cell_type": "code",
      "source": [
        "str = \"hello\"\n",
        "capitalized_str = str.capitalize()\n",
        "print(capitalized_str)\n",
        "\n",
        "str1 = \"AMNA\"\n",
        "print(str1.casefold())\n",
        "\n",
        "str1 = \"AMNA\"\n",
        "count = str1.count(\"A\")\n",
        "print(count)\n",
        "\n",
        "str2 = \"GOOD MORNING \"\n",
        "replaced_str2= str2.replace(\"GOODy\", \"NIGHT\")\n",
        "print(replaced_str2)\n",
        "\n"
      ],
      "metadata": {
        "colab": {
          "base_uri": "https://localhost:8080/"
        },
        "id": "_ecQ8cL8CIQB",
        "outputId": "70d29339-eb2a-4134-ac73-440786b954ec"
      },
      "execution_count": 14,
      "outputs": [
        {
          "output_type": "stream",
          "name": "stdout",
          "text": [
            "Hello\n",
            "amna\n",
            "2\n",
            "GOOD MORNING \n"
          ]
        }
      ]
    },
    {
      "cell_type": "markdown",
      "source": [
        "TASK 03"
      ],
      "metadata": {
        "id": "iUPsRWmhEQ1L"
      }
    },
    {
      "cell_type": "code",
      "source": [
        "month = 7  # *0-based index*\n",
        "days_in_month = [31, 28, 31, 30, 31, 30, 31, 31, 30, 31, 30, 31]\n",
        "days = days_in_month[month-1]  # Subtract 1 to account for zero-based indexing\n",
        "print(days)"
      ],
      "metadata": {
        "colab": {
          "base_uri": "https://localhost:8080/"
        },
        "id": "uifV7nHwEScK",
        "outputId": "1f36b7f4-8c7a-43da-a0ec-899e4f768dd6"
      },
      "execution_count": 15,
      "outputs": [
        {
          "output_type": "stream",
          "name": "stdout",
          "text": [
            "31\n"
          ]
        }
      ]
    },
    {
      "cell_type": "markdown",
      "source": [
        "TASK 04"
      ],
      "metadata": {
        "id": "EOfHLMmpElzc"
      }
    },
    {
      "cell_type": "code",
      "source": [
        "eclipse_dates = ['June 21, 2001', 'December 4, 2002', 'November 23, 2003', 'March 29, 2006', 'August 1, 2008', 'July 22, 2009', 'July 11, 2010', 'November 13, 2012', 'March 20, 2015', 'March 9, 2016']\n",
        "\n",
        "recents = eclipse_dates[-3:]\n",
        "print(recents)"
      ],
      "metadata": {
        "colab": {
          "base_uri": "https://localhost:8080/"
        },
        "id": "X7SeSMKvEnA_",
        "outputId": "57c82ffe-7aac-4f3d-e85d-43b901d2bba4"
      },
      "execution_count": 18,
      "outputs": [
        {
          "output_type": "stream",
          "name": "stdout",
          "text": [
            "['November 13, 2012', 'March 20, 2015', 'March 9, 2016']\n"
          ]
        }
      ]
    },
    {
      "cell_type": "markdown",
      "source": [
        "TASK 05"
      ],
      "metadata": {
        "id": "sThnIlKPFpun"
      }
    },
    {
      "cell_type": "code",
      "source": [
        "std = {\n",
        "     \"student1\": {\n",
        "        \"name\": \"Amna\",\n",
        "        \"age\": 21,\n",
        "        \"grade\": \"6TH SEM\",\n",
        "        \"subjects\": [\"DSA\", \"MAD\", \"TBW\"]\n",
        "    },\n",
        "    \"student2\": {\n",
        "        \"name\": \"KINZA\",\n",
        "        \"age\": 21,\n",
        "        \"grade\": \"6TH SEM\",\n",
        "        \"subjects\": [\"DS\",\"SPM\"]}}\n",
        "\n",
        "student1_name = std[\"student1\"][\"name\"]\n",
        "print(student1_name)\n",
        "student2_subjects = std[\"student2\"][\"subjects\"]\n",
        "print(student2_subjects)\n",
        "\n"
      ],
      "metadata": {
        "colab": {
          "base_uri": "https://localhost:8080/"
        },
        "id": "mMkkqGc5FrIc",
        "outputId": "2de4a732-557a-4bdb-c0ae-4bae71fd4f67"
      },
      "execution_count": 43,
      "outputs": [
        {
          "output_type": "stream",
          "name": "stdout",
          "text": [
            "Amna\n",
            "['DS', 'SPM']\n"
          ]
        }
      ]
    }
  ]
}